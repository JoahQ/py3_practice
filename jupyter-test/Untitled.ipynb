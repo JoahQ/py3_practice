{
 "cells": [
  {
   "cell_type": "code",
   "execution_count": 2,
   "id": "d02babbf-c91c-4b57-983c-d70cd6ce95cf",
   "metadata": {},
   "outputs": [],
   "source": [
    "import xlwings as xw\n",
    "app = xw.App(visible=True, add_book=False)\n",
    "app.display_alerts = False\n",
    "app.screen_updating = False"
   ]
  },
  {
   "cell_type": "code",
   "execution_count": 5,
   "id": "9f588a73-be5d-47ab-b36a-c6341d3f3274",
   "metadata": {},
   "outputs": [],
   "source": [
    "path = r\"D:\\乱占耕地建房工具\"\n",
    "wb = app.books.open(path + r\"\\a.xlsx\")\n",
    "wb.save()\n",
    "wb.close()\n",
    "app.quit()"
   ]
  },
  {
   "cell_type": "code",
   "execution_count": 4,
   "id": "9769b9b2-925e-4048-8dc2-5462b75d86d3",
   "metadata": {},
   "outputs": [
    {
     "data": {
      "text/plain": [
       "True"
      ]
     },
     "execution_count": 4,
     "metadata": {},
     "output_type": "execute_result"
    }
   ],
   "source": [
    "'11234549431679461687946464646'.isdecimal()"
   ]
  },
  {
   "cell_type": "code",
   "execution_count": null,
   "id": "76bc1507-8130-40a1-865d-9ee7d0cca338",
   "metadata": {},
   "outputs": [],
   "source": []
  }
 ],
 "metadata": {
  "kernelspec": {
   "display_name": "Python 3 (ipykernel)",
   "language": "python",
   "name": "python3"
  },
  "language_info": {
   "codemirror_mode": {
    "name": "ipython",
    "version": 3
   },
   "file_extension": ".py",
   "mimetype": "text/x-python",
   "name": "python",
   "nbconvert_exporter": "python",
   "pygments_lexer": "ipython3",
   "version": "3.9.13"
  }
 },
 "nbformat": 4,
 "nbformat_minor": 5
}
